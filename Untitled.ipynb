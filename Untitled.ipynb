{
 "cells": [
  {
   "cell_type": "code",
   "execution_count": 103,
   "metadata": {},
   "outputs": [],
   "source": [
    "# 자동화 테스트를 위해 셀레니움(Selenium)을 불러옵니다.\n",
    "from selenium import webdriver\n",
    "# 크롬 웹 드라이버의 경로를 설정합니다.\n",
    "driver = webdriver.Chrome('C:\\Chrome Driver\\Chrome Driver.exe')\n",
    "# 크롬을 통해 접속합니다.\n",
    "driver.get('https://google.com')\n",
    "# 필요하다면 캡차 인증을 수행합니다."
   ]
  },
  {
   "cell_type": "code",
   "execution_count": 78,
   "metadata": {},
   "outputs": [
    {
     "name": "stdout",
     "output_type": "stream",
     "text": [
      "데이터 개수: 508142개\n"
     ]
    }
   ],
   "source": [
    "# 사전 데이터를 불러옵니다.\n",
    "import csv\n",
    "f = open('kr_korean.csv', 'r', encoding='utf-8-sig')\n",
    "rdr = csv.reader(f)\n",
    "result = []\n",
    "for line in rdr:\n",
    "    result.append(line)\n",
    "print(\"데이터 개수: \" + str(len(result)) + \"개\")\n",
    "f.close()    "
   ]
  },
  {
   "cell_type": "code",
   "execution_count": 79,
   "metadata": {},
   "outputs": [],
   "source": [
    "# 현재 시작 단어를 얻습니다.\n",
    "def now():\n",
    "    element = driver.find_elements_by_class_name(\"jjo-display\")\n",
    "    return element[0].text"
   ]
  },
  {
   "cell_type": "code",
   "execution_count": 80,
   "metadata": {},
   "outputs": [],
   "source": [
    "# 단어를 보내는 함수입니다.\n",
    "def send(message, type):\n",
    "    input_tag = None\n",
    "    if type == 0:\n",
    "        input_tag = driver.find_element_by_xpath('//*[@id=\"UserMessage70676\"]')\n",
    "    if type == 1:\n",
    "        input_tag = driver.find_element_by_xpath('//*[@id=\"Middle\"]/div[29]/div/input[2]')\n",
    "    if type == 2:\n",
    "        input_tag = driver.find_element_by_xpath('//*[@id=\"Talk\"]')\n",
    "    input_tag.send_keys(message)\n",
    "    driver.find_element_by_xpath('//*[@id=\"ChatBtn\"]').click()"
   ]
  },
  {
   "cell_type": "code",
   "execution_count": 81,
   "metadata": {},
   "outputs": [],
   "source": [
    "# 특정 글자로 시작하는 단어를 찾아 긴 순서대로 출력합니다.\n",
    "def get_words(start):\n",
    "    text_list = []\n",
    "    for i in result:\n",
    "        # '다'로 끝나지 않는 형태의 단어만을 추출합니다.\n",
    "        if i[0].startswith(start) and not i[0].endswith('다'):\n",
    "            # 별도의 특수문자가 들어가는 경우를 제외합니다.\n",
    "            if \"-\" in i[0] or \"^\" in i[0] or \"ㆍ\" in i[0] or \" \" in i[0]:\n",
    "                continue\n",
    "            text = i[0]\n",
    "            # 2글자 이상인 경우만 포함합니다.\n",
    "            if len(text) >= 2:\n",
    "                text_list.append(text)\n",
    "    # 단어가 긴 순서대로 정렬하여 반환합니다.\n",
    "    text_list.sort(key=lambda item: (len(item), item), reverse=True)\n",
    "    returned = []\n",
    "    for i in text_list:\n",
    "        returned.append(i)\n",
    "    return returned"
   ]
  },
  {
   "cell_type": "code",
   "execution_count": 99,
   "metadata": {},
   "outputs": [],
   "source": [
    "# 특정 단어에 대한 방어 내용 설정\n",
    "result.append(('늣치', '방어'))\n",
    "result.append(('슭곰', '방어'))\n",
    "\n",
    "# === 공격 수행 ===\n",
    "import time\n",
    "import random\n",
    "\n",
    "def attack(start, TYPE):\n",
    "    count = 0\n",
    "    my_list = get_words(start)\n",
    "    if len(my_list) == 0:\n",
    "        print('사전에서 찾을 수 없습니다.')\n",
    "        return\n",
    "    end = len(my_list)\n",
    "    # 되도록 긴 문자열을 뽑기 위해 긴 문자열 10개 이하에서만 추출합니다.\n",
    "    if end > 10:\n",
    "        end = 5\n",
    "    # 단어를 랜덤으로 추출합니다.\n",
    "    i = random.randrange(0, end)\n",
    "    message = my_list[i]\n",
    "    # 특정한 단어를 입력해 전송합니다.\n",
    "    print(\"단어 전송: \" + message)\n",
    "    send(message, TYPE)\n",
    "\n",
    "# 현재 시작 단어를 구합니다.\n",
    "start = now()\n",
    "# 이(리)와 같은 형태 잘라내기\n",
    "if '(' in start:\n",
    "    start = start.split('(')[0]\n",
    "# 1글자로 구성된 경우만 공격\n",
    "if len(start) == 1:\n",
    "    attack(start, TYPE)"
   ]
  },
  {
   "cell_type": "code",
   "execution_count": null,
   "metadata": {},
   "outputs": [],
   "source": [
    "TYPE = 2\n",
    "ID = 'GUEST1499'\n",
    "\n",
    "def auto():\n",
    "    while True:\n",
    "        now_player = driver.find_elements_by_class_name(\"game-user-current\")\n",
    "        if len(now_player) == 0:\n",
    "            continue\n",
    "        target = now_player[0].find_elements_by_class_name(\"game-user-name\")\n",
    "        if len(target) == 0:\n",
    "            continue\n",
    "        player_name = target[0].text\n",
    "        if len(player_name) > 0 and player_name == ID:\n",
    "            # 현재 시작 단어를 구합니다.\n",
    "            start = now()\n",
    "            # 이(리)와 같은 형태 잘라내기\n",
    "            if '(' in start:\n",
    "                start = start.split('(')[0]\n",
    "            # 1글자로 구성된 경우만 공격\n",
    "            if len(start) == 1:\n",
    "                attack(start, TYPE)\n",
    "\n",
    "auto();"
   ]
  },
  {
   "cell_type": "code",
   "execution_count": null,
   "metadata": {},
   "outputs": [],
   "source": []
  }
 ],
 "metadata": {
  "kernelspec": {
   "display_name": "Python 3",
   "language": "python",
   "name": "python3"
  },
  "language_info": {
   "codemirror_mode": {
    "name": "ipython",
    "version": 3
   },
   "file_extension": ".py",
   "mimetype": "text/x-python",
   "name": "python",
   "nbconvert_exporter": "python",
   "pygments_lexer": "ipython3",
   "version": "3.6.4"
  }
 },
 "nbformat": 4,
 "nbformat_minor": 2
}
